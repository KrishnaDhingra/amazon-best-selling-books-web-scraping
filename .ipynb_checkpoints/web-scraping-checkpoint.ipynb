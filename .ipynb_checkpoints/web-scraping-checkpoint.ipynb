{
 "cells": [
  {
   "cell_type": "code",
   "execution_count": 2,
   "id": "d54323b7",
   "metadata": {},
   "outputs": [],
   "source": [
    "from bs4 import BeautifulSoup\n",
    "import requests"
   ]
  },
  {
   "cell_type": "code",
   "execution_count": 118,
   "id": "5471ad7e",
   "metadata": {},
   "outputs": [],
   "source": [
    "def getPageHTML(url):\n",
    "    result = requests.get(url)\n",
    "    doc = BeautifulSoup(result.text, 'html.parser')\n",
    "    return doc"
   ]
  },
  {
   "cell_type": "code",
   "execution_count": 83,
   "id": "8634cca7",
   "metadata": {},
   "outputs": [],
   "source": [
    "def getName(article):\n",
    "    return article.find_all(\"span\")[1].string"
   ]
  },
  {
   "cell_type": "code",
   "execution_count": 88,
   "id": "33a894df",
   "metadata": {},
   "outputs": [],
   "source": [
    "def getAuthor(article):\n",
    "    author = article.find_all(\"div\", {\"class\": \"_p13n-zg-list-grid-desktop_truncationStyles_p13n-sc-css-line-clamp-1__1Fn1y\"})\n",
    "    if len(author) > 1:\n",
    "        author = author[1].string\n",
    "    else:\n",
    "        author = author[0].string\n",
    "    return author"
   ]
  },
  {
   "cell_type": "code",
   "execution_count": 122,
   "id": "d1febe20",
   "metadata": {},
   "outputs": [],
   "source": [
    "def getSecondPageURL(url):\n",
    "    url = 'https://www.amazon.in/gp/bestsellers/books/'\n",
    "    result = requests.get(url)\n",
    "    doc = BeautifulSoup(result.text, 'html.parser')\n",
    "    page2URL = doc.find(\"ul\", attrs={\"class\" : \"a-pagination\"}).find_all(\"li\")[2].find(\"a\")[\"href\"]\n",
    "    return f'https://amazon.in{page2URL}'"
   ]
  },
  {
   "cell_type": "code",
   "execution_count": null,
   "id": "9f56ac41",
   "metadata": {},
   "outputs": [],
   "source": [
    "def getBestSelllingBooks():\n",
    "    \n",
    "#     obtaining first page articles\n",
    "    url = 'https://www.amazon.in/gp/bestsellers/books/'\n",
    "    doc = getPageHTML(url)\n",
    "    articles = doc.find_all(\"div\", {\"id\": \"gridItemRoot\"})\n",
    "    \n",
    "#     obtaining second page articles\n",
    "    url2 = getSecondPageURL(url)\n",
    "    doc2 = getPageHTML(url2)\n",
    "    articles2 = doc2.find_all(\"div\", {\"id\": \"gridItemRoot\"})\n",
    "    \n",
    "#     appending the second page articles first articles so that can loop over it an once\n",
    "    for article2 in articles2:\n",
    "        articles.append(article2)    \n",
    "    \n",
    "    names = []\n",
    "    authors = []\n",
    "    for article in articles:\n",
    "        name = getName(article)\n",
    "        names.append(name)\n",
    "        author = getAuthor(article)\n",
    "        authors.append(author)\n",
    "        \n",
    "    return names, authors"
   ]
  },
  {
   "cell_type": "code",
   "execution_count": 159,
   "id": "93779783",
   "metadata": {},
   "outputs": [
    {
     "name": "stdout",
     "output_type": "stream",
     "text": [
      "100\n"
     ]
    },
    {
     "ename": "TypeError",
     "evalue": "cannot unpack non-iterable NoneType object",
     "output_type": "error",
     "traceback": [
      "\u001b[1;31m---------------------------------------------------------------------------\u001b[0m",
      "\u001b[1;31mTypeError\u001b[0m                                 Traceback (most recent call last)",
      "Input \u001b[1;32mIn [159]\u001b[0m, in \u001b[0;36m<cell line: 1>\u001b[1;34m()\u001b[0m\n\u001b[1;32m----> 1\u001b[0m names, authors \u001b[38;5;241m=\u001b[39m getBestSelllingBooks()\n\u001b[0;32m      2\u001b[0m \u001b[38;5;28mprint\u001b[39m(names)\n",
      "\u001b[1;31mTypeError\u001b[0m: cannot unpack non-iterable NoneType object"
     ]
    }
   ],
   "source": [
    "names, authors = getBestSelllingBooks()\n",
    "print(names)"
   ]
  }
 ],
 "metadata": {
  "kernelspec": {
   "display_name": "Python 3 (ipykernel)",
   "language": "python",
   "name": "python3"
  },
  "language_info": {
   "codemirror_mode": {
    "name": "ipython",
    "version": 3
   },
   "file_extension": ".py",
   "mimetype": "text/x-python",
   "name": "python",
   "nbconvert_exporter": "python",
   "pygments_lexer": "ipython3",
   "version": "3.10.2"
  }
 },
 "nbformat": 4,
 "nbformat_minor": 5
}
