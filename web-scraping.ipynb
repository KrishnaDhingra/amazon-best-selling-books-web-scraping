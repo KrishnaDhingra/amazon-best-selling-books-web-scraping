{
 "cells": [
  {
   "cell_type": "code",
   "execution_count": 2,
   "id": "04358cdc",
   "metadata": {},
   "outputs": [],
   "source": [
    "from bs4 import BeautifulSoup\n",
    "import requests"
   ]
  },
  {
   "cell_type": "code",
   "execution_count": 118,
   "id": "72fb015a",
   "metadata": {},
   "outputs": [],
   "source": [
    "def getPageHTML(url):\n",
    "    result = requests.get(url)\n",
    "    doc = BeautifulSoup(result.text, 'html.parser')\n",
    "    return doc"
   ]
  },
  {
   "cell_type": "code",
   "execution_count": 83,
   "id": "6be6cede",
   "metadata": {},
   "outputs": [],
   "source": [
    "def getName(article):\n",
    "    return article.find_all(\"span\")[1].string"
   ]
  },
  {
   "cell_type": "code",
   "execution_count": 88,
   "id": "60f0c5ec",
   "metadata": {},
   "outputs": [],
   "source": [
    "def getAuthor(article):\n",
    "    author = article.find_all(\"div\", {\"class\": \"_p13n-zg-list-grid-desktop_truncationStyles_p13n-sc-css-line-clamp-1__1Fn1y\"})\n",
    "    if len(author) > 1:\n",
    "        author = author[1].string\n",
    "    else:\n",
    "        author = author[0].string\n",
    "    return author"
   ]
  },
  {
   "cell_type": "code",
   "execution_count": 122,
   "id": "2bdda591",
   "metadata": {},
   "outputs": [],
   "source": [
    "def getSecondPageURL(url):\n",
    "    url = 'https://www.amazon.in/gp/bestsellers/books/'\n",
    "    result = requests.get(url)\n",
    "    doc = BeautifulSoup(result.text, 'html.parser')\n",
    "    page2URL = doc.find(\"ul\", attrs={\"class\" : \"a-pagination\"}).find_all(\"li\")[2].find(\"a\")[\"href\"]\n",
    "    return f'https://amazon.in{page2URL}'"
   ]
  },
  {
   "cell_type": "code",
   "execution_count": 160,
   "id": "22f15aa1",
   "metadata": {},
   "outputs": [],
   "source": [
    "def getBestSelllingBooks():\n",
    "    \n",
    "#     obtaining first page articles\n",
    "    url = 'https://www.amazon.in/gp/bestsellers/books/'\n",
    "    doc = getPageHTML(url)\n",
    "    articles = doc.find_all(\"div\", {\"id\": \"gridItemRoot\"})\n",
    "    \n",
    "#     obtaining second page articles\n",
    "    url2 = getSecondPageURL(url)\n",
    "    doc2 = getPageHTML(url2)\n",
    "    articles2 = doc2.find_all(\"div\", {\"id\": \"gridItemRoot\"})\n",
    "    \n",
    "#     appending the second page articles first articles so that can loop over it an once\n",
    "    for article2 in articles2:\n",
    "        articles.append(article2)    \n",
    "    \n",
    "    names = []\n",
    "    authors = []\n",
    "    for article in articles:\n",
    "        name = getName(article)\n",
    "        names.append(name)\n",
    "        author = getAuthor(article)\n",
    "        authors.append(author)\n",
    "        \n",
    "    return names, authors"
   ]
  },
  {
   "cell_type": "code",
   "execution_count": 161,
   "id": "30388d5f",
   "metadata": {},
   "outputs": [
    {
     "name": "stdout",
     "output_type": "stream",
     "text": [
      "['Oswaal CBSE Term 2 English Science Social Science & Math Standard Class 10 Sample Question Paper (Set of 4 Books) (For Term-2 2022 Exam) Free Access Code For Oswaal 360', 'Atomic Habits: The life-changing million copy bestseller', 'The Psychology of Money', 'My First Library: Boxset of 10 Board Books for Kids', 'Educart Term 2 Class 10 Sample Papers Bundle of Science, Math Standard, Social Science & English Books For 2022 (Based on the CBSE Term-2 Subjective Sample Paper released on 14 Jan 2022) Edubook', 'The Almanack Of Naval Ravikant: A Guide to Wealth and Happiness', 'Ikigai: The Japanese secret to a long and happy life', 'Word Power Made Easy', 'Rich Dad Poor Dad: What the Rich Teach Their Kids About Money That the Poor and Middle Class Do Not!', 'DO EPIC SHIT', '27 Years UPSC IAS/ IPS Prelims Topic-wise Solved Papers 1 & 2 (1995 - 2021) 12th Edition', '10 Full Mock Papers (Most Expected) for NEET 2022 (With OMR Sheets and Detailed Solutions) ABHYAAS', 'GENERAL STUDIES (By Sanket Sir)', \"Grandma's Bag of Stories: Collection of 20+ Illustrated short stories, traditional Indian folk tales for all ages for children of all ages by Sudha Murty\", 'Oswaal CBSE Question Bank Chapterwise For Term 2, Class 10, Science (For 2022 Exam)', \"Man's Search For Meaning: The classic tribute to hope from the Holocaust\", \"Life's Amazing Secrets: How to Find Balance and Purpose in Your Life | Inspirational Zen book on motivation, self-development & healthy living\", 'The Courage To Be Disliked: How to free yourself, change your life and achieve real happiness (Courage To series)', 'How to Win Friends\\xa0and Influence People', 'Quantitative Aptitude for Competitive Examinations', 'Moral Story Books for Kids (Pack of 10 Books) | 160 Total Pages | Illustrated Stories', 'Oswaal CBSE Question Bank Chapterwise For Term 2, Class 10, Social Science (For 2022 Exam)', 'My First Mythology Tale (Illustrated) (Set of 5 Books) - Mahabharata, Krishna, Hanuman, Ganesha, Ramayana - Story Book for Kids', 'The Alchemist', 'Our Moon Has Blood Clots: A Memoir of a Lost Home in Kashmir', 'Attitude Is Everything: Change Your Attitude ... Change Your Life!', 'The Power of Your Subconscious Mind', 'My First Book of Pencil Control : Practice Pattern Writing (Full Color Pages): Patterns Practice book for kids (Pattern Writing)', 'The Subtle Art of Not Giving a F*ck: A Counterintuitive Approach to Living a Good Life', 'Oswaal CBSE Question Bank Chapterwise For Term 2, Class 10, Mathematics (Standard) (For 2022 Exam)', 'Mathematics for Class 10 - Examination 2022-23', 'Best of Children’s Classics (Set of 5 Books): Perfect Gift Set for Kids', 'As a Man Thinketh', 'India that is Bharat: Coloniality, Civilisation, Constitution', 'Rich Dad Poor Dad - 20Th Anniversary Edition - Hindi', 'Very First Sight Words Sentences Level 1', 'To Nature, with love -The Times Evoke Collection', 'My First Complete Learning Library: Boxset of 20 Board Books Gift Set for Kids (Horizontal Design): Box Set of 20 Board Books for Children', \"Karma: A Yogi's Guide to Crafting Your Destiny | Spirituality, Self-improvement & Self help books by Sadhguru | Penguin\", 'The Power of Your Subconscious Mind', 'Brain Activity Book for Kids - 200+ Activities for Age 3+', 'World’s Greatest Books For Personal Growth & Wealth (Set of 4 Books): Perfect Motivational Gift Set', 'Eat That Frog!: 21 Great Ways to Stop Procrastinating and Get More Done in Less Time', 'The Monk Who Sold His Ferrari', 'The Diary of a Young Girl', 'Spoken English Course (Telugu)', 'Writing Practice Boxset: Pack of 4 Books (Writing Fun: Write and Practice Capital Letters, Small Letters, Patterns and Numbers 1 to 10)', 'Great Stories for Children', 'My First 4 in 1 Alphabet Numbers Colours Shapes: Padded Board Books', 'The Magic of the Lost Temple: Illustrated, easy to read and much-loved first full length children’s fiction novel by Sudha Murty for ages 8–12: ... fiction novel by Sudha Murty for ages 8–12', 'Picture Books Collection for Early Learning (Set of 12)', '101 Panchatantra Stories for Children: Colourful Illustrated Stories', 'Xam idea Class 10 Science Book For CBSE Term 2 Exam (2021-2022) With New Pattern Including Basic Concepts, NCERT Questions and Practice Questions', 'Arihant CBSE Science Term 2 Class 10 for 2022 Exam (Cover Theory and MCQs)', 'Deep Work: Rules for Focused Success in a Distracted World', 'Sapiens: A Brief History of Humankind', 'The Complete Novels of Sherlock Holmes', 'Wren & Martin High School English Grammar And Composition Book (Regular Edition)', 'A Modern Approach To Verbal & Non-Verbal Reasoning (2 Colour Edition)', 'The Silent Patient: The record-breaking, multimillion copy Sunday Times bestselling thriller and Richard & Judy book club pick', 'Colour With Crayons Book 1 for Kids Age 1 -6 Years - Drawing and Colouring Book for Early Learners', 'How to Talk to Anyone: 92 Little Tricks for Big Success in Relationships', 'Kashmir Aur Kashmiri Pandit: Basne Aur Bikharne Ke 1500 Saal', 'Manorama English Yearbook 2022', 'Indian Polity ( English| 6th Revised Edition) | UPSC | Civil Services Exam | State Administrative Exams', 'Oswaal CBSE Question Bank Chapterwise For Term 2, Class 10, English Language & Literature (For 2022 Exam)', '108 Panchatantra Stories (Illustrated) for children', 'Brain Games for Clever Kids: Puzzles to Exercise Your Mind (Buster Brain Games, 1)', 'The 5 AM Club: Own Your Morning, Elevate Your Life', 'Who Will Cry When You Die?', 'MTG Objective NCERT at your FINGERTIPS - Biology, Best NEET Books (Based on NCERT Pattern - Latest & Revised Edition 2022)', 'Wuthering Heights', \"Grandparents' Bag of Stories\", 'Oswaal CBSE Question Bank Chapterwise For Term 2, Class 10, Hindi B (For 2022 Exam)', 'Encyclopedia: Amazing Questions & Answers Science', 'Moral Story Books for Kids (Set of 10 Books)', 'The Blue Umbrella', 'Mahatma Gandhi Autobiography: The Story Of My Experiments With Truth', 'Oxford Student Atlas for India, Fourth Edition - Useful for Competitive Exams', 'The Richest Man in Babylon', 'NCERT Textbooks in English for class 12 - Flamingo and Vistas - 12074 &12075', 'Think & Grow Rich (Hindi)', 'The Intelligent Investor (English) Paperback – 2013', 'The Power of A Positive Attitude: Your Road To Success', 'Nursery Rhymes Board Book (My First Book Series): Illustrated Classic Nursery Rhymes', 'My First ABC Sticker Book: Exciting Sticker Book With 100 Stickers', '400 Days', 'Ignited Minds: Unleashing the power within india: Unleashing the power within India - OVER 1 MILLION COPIES SOLD - An inspiring & visionary book for ... Kalam | English Non-fiction, Penguin Books', 'Entre Jeunes French (T.B.) -X', 'Science Textbook For Class 10- 1064', 'Ugly Love: A Novel', 'The Compound Effect', 'The 48 Laws Of Power (The Modern Machiavellian Robert Greene, 1)', 'The Theory of Everything: The Origin and Fate of the Universe', 'Think Like a Monk: The secret of how to harness the power of positivity and be happy now', 'Three Thousand Stitches: Ordinary People, Extraordinary Lives', 'Inner Engineering: A Yogi’s Guide to Joy - English', 'Peppa Pig: Little Library', 'Pride & Prejudice', 'Oswaal CBSE Term 2 Hindi B Class 10 Sample Question Papers Book (For Term-2 2022 Exam)']\n"
     ]
    }
   ],
   "source": [
    "names, authors = getBestSelllingBooks()\n",
    "print(names)"
   ]
  }
 ],
 "metadata": {
  "kernelspec": {
   "display_name": "Python 3 (ipykernel)",
   "language": "python",
   "name": "python3"
  },
  "language_info": {
   "codemirror_mode": {
    "name": "ipython",
    "version": 3
   },
   "file_extension": ".py",
   "mimetype": "text/x-python",
   "name": "python",
   "nbconvert_exporter": "python",
   "pygments_lexer": "ipython3",
   "version": "3.10.2"
  }
 },
 "nbformat": 4,
 "nbformat_minor": 5
}
